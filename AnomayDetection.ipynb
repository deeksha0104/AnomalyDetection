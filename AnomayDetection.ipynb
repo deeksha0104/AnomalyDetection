<!DOCTYPE html><html>
<head>
    <title>Sign In - CAS &#8211; Central Authentication Service</title>
    <meta charset="UTF-8"/><meta http-equiv="X-UA-Compatible" content="IE=edge"/><meta name="viewport" content="width=device-width, initial-scale=1, shrink-to-fit=no"/><link rel="stylesheet" href="/cas/webjars/font-awesome/5.0.13/web-fonts-with-css/css/fontawesome-all.min.css"/><link type="text/css" rel="stylesheet" href="/cas/webjars/lato/0.3.0/css/lato.min.css"/><link rel="stylesheet" href="/cas/css/cas.css"/><link rel="shortcut icon" href="/cas/images/favicon.ico" /><script type="text/javascript" src="/cas/webjars/jquery/3.3.1/jquery.min.js"></script>

    
    <link  href="/cas/css/sfu-overlay.css" rel="stylesheet"/><script src="/cas/js/sfu-overlay.js" type="text/javascript"></script>
<meta http-equiv="X-UA-Compatible" content="IE=edge"/><meta name="viewport" content="width=device-width, initial-scale=1, shrink-to-fit=no"/><meta charset="utf-8" http-equiv="refresh" content="300;url=../lt-timeout.html" /></head>

<body class="login">
<header role="banner">
        <div class="grid sfu-header">
            <div class="row">
                <div class="col sm-12">
                    <a href="http://www.sfu.ca">
                        <div class="sfu-logo"><h1>Simon Fraser University</h1></div>
                    </a>
                    <div class="sfu-service-name">
                        <h1>CourSys</h1>
                        </div>
                </div>
            </div>
            <div class="row sm-banner"></div>
        </div>
    </header>

<main role="main" class="container mt-3 mb-3">
    <div id="content" class="row">
        <div class="col-lg">
            <div class="card form-background">
                <div class="sfu-login-form">
                    <div class="card-header text-center">
                        <h2>Sign In</h2>
                        <span class="fa-stack fa-2x hidden-xs">
                        <i class="fa fa-circle fa-stack-2x"></i>
                        <i class="fa fa-lock fa-stack-1x fa-inverse"></i>
                        </span>
                    </div>
                    <div class="card-body">
                        <form method="post" id="fm1" action="login">
                            <section class="form-group">
                                <label for="username"><span class="accesskey">U</span>sername:</label>

                                <div>
                                    <input class="form-control required"
                                        id="username"
                                        size="25"
                                        tabindex="1"
                                        type="text"
                                        accesskey="u"
                                        autocomplete="off" name="username" value=""/></div>
                            </section>

                            <section class="form-group">
                                <label for="password"><span class="accesskey">P</span>assword:</label>

                                <div>
                                    <input class="form-control required"
                                        type="password"
                                        id="password"
                                        size="25"
                                        tabindex="2"
                                        accesskey="p"
                                        autocomplete="off" name="password" value=""/><span id="capslock-on" style="display:none;">
                                    <p>
                                        <i class="fa fa-exclamation-circle"></i>
                                        <span>CAPSLOCK key is turned on!</span>
                                    </p>
                                </span>
                                </div>
                            </section>

                            <input type="hidden" name="execution" value="c2e60240-4b05-4fff-801c-0d20301e8877_H4sIAAAAAAAAAKVZe2wcRxkfn+O3Ez/qJPiPmFNxaJIqe47jNGnc4pzPd/Yld7bxnZNgUpy53fF5473dzeysfVehBIQq2kJUEG3V0iKBVCFaBbX/gSKhpioSD7UgKsqjUpBAgiIhIt6Vyj98M/u6O98553BSLnuzM99rft83v298/a+oxaLo0wbNS9gklBiSZVJVz0sbJLeiGRuSqdl5VZdimkp0loCReJHINlMNfYGYhqUyg5aGM4SqWFMfJUrFjAzDjPx49Kuno195+q0Qak6hPtnQ1wm1sHgtGyZhKJoC7RFH7QrFBbJh0LWIqz8iG5TAl6YRma+JpG2GcxqJMkbVnM1IGpvjKdRBPJ0MHdtSnj8xUmEqyGjl75MKQ/2pS3gdRzSs5yMZxsWMF02I0sM8SlVy/ThxO6XATillyFgrt/LqxZ/84Pypa39pRk0p1Im9NxZDPY4+sEOLcHeEsj4+JvExaQZbqzDe0vbeG2/uufiLZhRKoE7NwEoCyxD+JOpgq5RYq4amFM2JU4h/ujfa4bsX/jUx1LmigQgRbusyugJbzr/b3anIn4qK8AHdD27lKNEBD0RSC6YmVYQwCSOvL7K/jX3sk7e6QZZ5haLxu5LEcWNbyP30gyyKdol48D2R4rpdKH9pMtQajWWTZ+Ng+0AQt5SqrxElpVqs+2DmkdMXH7+3mc/e2MGjAlOPb8e4DLEs18ku5V/H35768wfdju4WzYCpDO1cV8lGij8nDFqoEehgT7oYGjSxZYFGJY11nCcFyK64zpGt+JsvnJ00DI1g/e0w/dy7L354O4SallDLOtZsUjQRQx+lsLSQIzRNojZbBSmqLJLLFcb172Oog9vWEAAALTIlCheENTDlRFlpkLEl4Qot0qJFqA6xm3e9iflr/5P4p3z7w5vxEAqlULvnLdcLdaDddteJ30XThDj2bGCqxwxjTSVnuX+u6QMWoEGVK71z37WBlHVVJmDn9NZ28l2WVRNrUoZvKTlHclHT1NzXGUcM31zrO0899c3C398LCdTFG5UazVmMQjrWlNu+8cXHosnXrodQ+xLqBbjkiTJns6hGCVZKvBpQpq7A6qQXn4r6cE9ZfXBrgShXgDKYhkZFvXOMjICREUCHqgj9kbP+4wKxTEO3SLZkElgdUj1VXQZVAbNYW6SaO9Th++UOtFqGTWVvs5BZAZ8mAZ8mAR9I+ZGqkAXWSLWtKU9lLreXoebz6RRD1ipjpnUyAuXfplbJkqwVG0RGRL5FJnRSZA/vH02MjoyOWOZhuWCyw8ePHj2cPwKD+0cn8TH437JzBVVkLvzAulHAWmlZIcyp0mYJRo8cOz5yYmQUnvKEcQOOmPz7Pob2wEavETZNMWy5ns+KX0kFsDqYN4w8nEIQthJMsrKw92swRbzs5UhYmyYGPwPK0NpHSR6KEURGyfi4larC5SFaWiB5UlyoXnFNPn+GNJE/OvA8Um+xB8dN6y8Nfvb3r/zjycMhtCeJeggvJMLEOaoQeprDIoV2YRlkWHD0wfGdLzH0YDXCPD2RTfKjFUsBaHt8JC8QKGQWmTcgO0resd+Y0JoiQHg70AkGbkKS9JYlCS/58LZLIZZMVdPbAgByL1RNlQqPPTvGG7cjXrUYdOxSdScPYTBIoB0AUcNLZf5sM450hh5oXNlwyl/HCY4jBVQwtMtxVScssriQgpd9BVtzCohBPbcealxTuno1iNzhF2fwAMrBOpZLgX8wAkcJFC3nOGmFWMNIseQp34ab88E67qZp5+DxDAEhY9sQ4q0CEb2UXLZVeDeDdUUDrrm5gGYIh0c3LStCXuVzdfiFuAXqvR+IQe/U8gEJ1q+rkDkMTTVu7WI9KcD8EHr6slMOm16G6vCJegk+RVYwbNsd8q9vZuinZw/0fDeEupdQDwggSfBXB9aurpMl1EYckpBELQbP/yU04AYvqgXc1VpCnZZluIQihXbORGenUvGF5dloOp5x97+dn4wsCOQ+BVI1D0YolQe3h5CZxsM1tZUkXgQKWNU0WOOq7qfkEpR3mO974BrZ70Fj05u9ts4dgKMQepgFosAkuUayJfkONTnbU4fa7QAClUkspqai87YKzUQzHFoMdbtDcABiyxtsjWF9nf9slb2HqInlVagTrVg8iE4gvV0MbBmwfw+dvpW9PbA7xNuQXqwBtSWKB0AwYU9ZrsT8dsbpSfZWc2s3mX6j/XrpmVuHhpxDqapzgfc3ph575tnvf2/Mod/dPFIe9Syadalo3RfclPH6xyazqR51/Kp9cLz6/td+/u2rg/eJEPThqqlC7cniZkZ558O1trrk+7+ytBcG2gT7uz+AWdZwp1VuU3ne7a8xO2DYHudeQh+vMU8U1krqsoQ+QoqyZivEhU6gK4V6/IM6oWqMl7STd3FCO2shK3fKvLTqzEv4E40Li5WvBFH7fDoa2BtcPjA0XS26kqVH/OWR+a0EgaYBf2oyAITLennac+RVtwQ+LFyH66ZlhVu/feJbQ798/WoyhJqDOgwVyt2fMjhW3g84R9dusJJPm9O1UiVwL4KhJjcz1Wjn4pq7ZWje6Ln/AF1+5QtOgmcaFS3zGuany5Yazoe//sOXWkdyEI/TqDNgaYDLAqHA9/MBHSUN77cwINKQAcPpSjX8YGFqgSzqKvP6HucT4j3/zNziQobH+Z6g2kUpxSXOPYuff2ff8z/C32hGTUm0w4K0dBaLmwe3sOVF51RxFbGdGh9ziG9/brh393Prh0KoxSXvnQoxoZ3k9wkehSH8gPSYaRmvazFXDZ1UOocY0mYNFrYtiEUYTq1wwVCWeYCXwa6wFM6ukrDox0gY+FW44N9ehHHQ94ax09qGSRHM5pIwc1dBnniNnATi4IDN53N4jdBTziAcn9PQJ4Un+Zgpav2p7Qanmqcnfle6PnjtobdEsvVxZsLIOUCMmEegfvbpBjDgEh+bEm95FxSAcAqzIEymyS+2xrZo2+ry+BqdbvdkNHZmOQaUajae4s5Gt+vsJvb+7qU/3Hr8U9YEYGIJ7cyV+NWLT966VgALNiVpA5pglPw/moThRCDJgmy5t6wJqSIeHrsQBapmPZ8FVGapms8T6oJzaPMkcSuUNdKYyavedlzZ4pzepg81dqdtdi67nIlnheXZauYCdaAtBqDOlKy67CiNzbGbsxd6tZv/FVd3XU5vLdrtYm0GGWJoCHIhKFJJ7x7JvT8hNa7l7giTeadjK/XfePaRjpd/9kIIhdyK0SpuE4WL0aAOiN+LFS43MWC31CZFhvZVGeg/T2qGvCbWXm1EUhGBLyfrb+AKdFxbtYyvvYT0N8//KRtyaeEDDWPBbxn5pd+T/aeeu/jlEx3ibxQdWMsDl2KrBe+yUiu7x+FtoN+kOhfwpUmC9ZgGacZQX9nfDsTQOL8ibl7IRM11iiJV5gmwyLRkMkOaryEUBR+XKC9Wg5ChA58R92QTwUXZBV5gL4CGAyfHxo4enDgQkQ4dnBi+q1rqX/C6STz/zgeJ/c/jcw4VSNQTN4lrbFzdxvdLr954cePsicsASuhTiS5C4s0GWgb9kaFDNdHUR8VG8Hz1KgBAaXZuNl4smsWiyKi9/wNJIpS41RoAAA=="/><input type="hidden" name="_eventId" value="submit"/><input type="hidden" name="geolocation"/><input class="btn btn-block btn-submit"
                                name="submit"
                                accesskey="l"
                                tabindex="6"
                                type="submit"
                                value="Sign In"
                            /></form>
                    </div>
                </div>
                <div class="sfu-password-information">
                    <div>
                        <span class="fa fa-question-circle"></span>
                        <span>Forgot your <a href="https://my.sfu.ca/ForgotPassword">password</a> or <a href="https://my.sfu.ca/ForgotUsername">computing ID</a>?<br /><a href="https://my.sfu.ca/ChangePassword">Change your password</a><br /><a href="http://www.sfu.ca/itservices.html">Need help?</a></span>
                        <p/></div>

                    <script type="text/javascript">
                        var i = "One moment please..."
                        $( document ).ready(function() {
                            $("#fm1").submit(function () {
                                $(":submit").attr("disabled", true);
                                $(":submit").attr("value", i);
                                console.log(i);
                                return true;
                            });
                        });
                    </script>

                    <div id="sidebar">
        <div class="sidebar-content">
            <p><h4>Protect your Password</h4><p>SFU will never request our users provide or confirm their Computing ID or password via email or by going to any web site. SFU users should ignore all messages requesting Computing ID and/or password information, no matter how authentic they may appear. <a href="https://www.sfu.ca/itservices/info_security/phishing_scams.html">More information on phishing</a>.</p><p>Always check that your browser shows a closed lock icon and that the URL of this page starts with <strong>https://cas.sfu.ca</strong> and not some other address.</p><p>If you're not sure, <strong>do not enter your password.</strong></p></p>
        </div>
    </div>
                </div>
            </div>
        </div>
        <!--
        <div th:replace="fragments/serviceui :: serviceUI">
            <a href="fragments/serviceui.html">service ui fragment</a>
        </div>
        --><!--
        <div id="notices" class="col-md mt-3 mt-md-0"  th:if="${delegatedAuthenticationProviderDominant == null}">
            <div th:replace="fragments/insecure :: insecure">
                <a href="fragments/insecure.html">insecure alert goeshere</a>
            </div>
            <div th:replace="fragments/defaultauthn :: staticAuthentication">
                <a href="fragments/defaultauthn.html">defaultAuthn</a>
            </div>
            <div th:replace="fragments/cookies :: cookiesDisabled">
                <a href="fragments/cookies.html">cookies fragment</a>
            </div>
            <div th:replace="fragments/serviceui :: serviceUI">
                <a href="fragments/serviceui.html">service ui fragment</a>
            </div>
            <div th:replace="fragments/cas-resources-list :: cas-resource-list">
                <a href="fragments/cas-resources-list.html">cas-resource</a> list fragment
            </div>
        </div>
        <div id="providers" class="col-md mt-3 mt-md-0">
            <div th:replace="fragments/loginProviders :: loginProviders">
                <a href="fragments/loginProviders.html">loginProviders</a>
            </div>
        </div>
        --></div>
</main>

<footer class="footer" role="contentinfo">
        <div class="sfu-home-links">
            <h4><a href="https://www.sfu.ca/itservices/publishing/publish_howto/enhanced_web_publishing/cas1.html">IT Services</a></h4>
            <ul>
                <li><a href="https://www.sfu.ca/main/admission.html">Admission</a></li>
                <li><a href="https://www.sfu.ca/main/programs.html">Programs</a></li>
                <li><a href="https://www.sfu.ca/main/learning.html">Learning</a></li>
                <li><a href="https://www.sfu.ca/main/research-at-sfu.html">Research</a></li>
                <li><a href="https://www.sfu.ca/main/sfu-community.html">Community</a></li>
                <li><a href="https://www.sfu.ca/main/about.html">About</a></li>
            </ul>
        </div>
        <div class="sfu-contact">
            <h4>Contact Us</h4>
            <p><strong>IT Services</strong></p>
            <p>
                Strand Hall 1001<br />
                8888 University Drive<br />
                Burnaby, B.C.<br />
                Canada. V5A 1S6
            </p>
        </div>

        <div class="sfu-links">
            <div class="h-line"></div>
            <ul>
                <li><a href="https://www.sfu.ca/srs">Safety &amp; Risk</a></li>
                <li><a href="https://www.sfu.ca/campuses/maps-and-directions">SFU Maps &amp; Directions</a></li>
                <li><a href="https://www.sfu.ca/admission">SFU Admissions</a></li>
                <li><a href="http://www.sfu.ca/security/sfuroadconditions/">Road Report</a></li>
                <li><a href="https://give.sfu.ca">Give to SFU</a></li>
                <li><a href="https://www.sfu.ca/contact/terms-conditions">Terms and conditions</a></li>
                <li><a href="https://www.sfu.ca/" class="muted">© Simon Fraser University</a></li>
            </ul>
        </div>
        <div class="sfu-logo-acknowledge">
            <img src="/cas/images/logo-stacked.png" id="footer-logo-img" alt=""><p style="color:#eee;">We would like to acknowledge that at Simon Fraser University we live and work on the unceded traditional territories of the Coast Salish peoples of the Musqueam, Squamish, and Tsleil-Waututh&nbsp;Nations.</p>
        </div>
                
    </footer>

<script type="text/javascript" src="/cas/webjars/zxcvbn/4.3.0/zxcvbn.js"></script>
<script type="text/javascript" src="/cas/webjars/jquery-ui/1.12.1/jquery-ui.min.js"></script>
<script type="text/javascript" src="/cas/webjars/jquery-cookie/1.4.1-1/jquery.cookie.js"></script>
<script src="/cas/webjars/bootstrap/4.1.0/js/bootstrap.bundle.min.js"></script>

<script src="/cas/webjars/headjs/1.0.3/head.min.js"></script>
<script src="/cas/webjars/store.js/1.3.17/store.min.js"></script>
<script type="text/javascript" src="/cas/js/cas.js"></script>

<script>
head.ready(document, function () {
    if (!window.jQuery) {
    	var jqueryUrl = "\/cas\/webjars\/jquery\/3.3.1\/jquery.min.js"; 
        head.load(jqueryUrl, loadjQueryUI);
    } else {
        notifyResourcesAreLoaded(resourceLoadedSuccessfully);
    }
});

function loadjQueryUI() {
	var jqueryUrl = "\/cas\/webjars\/jquery-ui\/1.12.1\/jquery-ui.min.js"; 
	head.load(jqueryUrl, loadjQueryCookies);
}

function loadjQueryCookies() {
	var jqueryUrl = "\/cas\/webjars\/jquery-cookie\/1.4.1-1\/jquery.cookie.js"; 
	head.load(jqueryUrl, notifyResourcesAreLoaded(resourceLoadedSuccessfully));
}

function notifyResourcesAreLoaded(callback) {
    if (typeof callback === "function") {
        callback();
    }
}
</script>

<script>
    /*<![CDATA[*/

    var trackGeoLocation = false;

    var googleAnalyticsTrackingId = null;

    if (googleAnalyticsTrackingId != null && googleAnalyticsTrackingId != '') {
        (function(i,s,o,g,r,a,m){i['GoogleAnalyticsObject']=r;i[r]=i[r]||function(){
            (i[r].q=i[r].q||[]).push(arguments)},i[r].l=1*new Date();a=s.createElement(o),
            m=s.getElementsByTagName(o)[0];a.async=1;a.src=g;m.parentNode.insertBefore(a,m)
        })(window, document, 'script', 'https://www.google-analytics.com/analytics.js', 'ga');

        ga('create', googleAnalyticsTrackingId, 'auto');
        ga('send', 'pageview');
    }

    /*]]>*/
</script>

<!-- /*Fragment for template-specific includes */--></body>
</html>
